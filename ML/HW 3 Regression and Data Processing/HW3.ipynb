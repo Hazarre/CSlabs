{
 "cells": [
  {
   "cell_type": "markdown",
   "metadata": {},
   "source": [
    "### Henry Chang HW3 Regression and Data Profcessing for Machine Learning with Prof. Sven Anderson"
   ]
  },
  {
   "cell_type": "markdown",
   "metadata": {},
   "source": [
    "#### Goals:\n",
    "Using SciKitLearn, load the data from the local directory and build a regression model to  predict the final column from the other columns. "
   ]
  },
  {
   "cell_type": "code",
   "execution_count": 1,
   "metadata": {},
   "outputs": [
    {
     "ename": "ModuleNotFoundError",
     "evalue": "No module named 'sklearn'",
     "output_type": "error",
     "traceback": [
      "\u001b[1;31m---------------------------------------------------------------------------\u001b[0m",
      "\u001b[1;31mModuleNotFoundError\u001b[0m                       Traceback (most recent call last)",
      "\u001b[1;32m<ipython-input-1-d7936232edac>\u001b[0m in \u001b[0;36m<module>\u001b[1;34m\u001b[0m\n\u001b[0;32m      8\u001b[0m \u001b[1;32mimport\u001b[0m \u001b[0mos\u001b[0m\u001b[1;33m\u001b[0m\u001b[1;33m\u001b[0m\u001b[0m\n\u001b[0;32m      9\u001b[0m \u001b[1;33m\u001b[0m\u001b[0m\n\u001b[1;32m---> 10\u001b[1;33m \u001b[1;32mimport\u001b[0m \u001b[0msklearn\u001b[0m \u001b[1;31m# Scikit-Learn ≥0.20 is required\u001b[0m\u001b[1;33m\u001b[0m\u001b[1;33m\u001b[0m\u001b[0m\n\u001b[0m\u001b[0;32m     11\u001b[0m \u001b[1;32massert\u001b[0m \u001b[0msklearn\u001b[0m\u001b[1;33m.\u001b[0m\u001b[0m__version__\u001b[0m \u001b[1;33m>=\u001b[0m \u001b[1;34m\"0.20\"\u001b[0m\u001b[1;33m\u001b[0m\u001b[1;33m\u001b[0m\u001b[0m\n\u001b[0;32m     12\u001b[0m \u001b[1;32mimport\u001b[0m \u001b[0mpandas\u001b[0m \u001b[1;32mas\u001b[0m \u001b[0mpd\u001b[0m\u001b[1;33m\u001b[0m\u001b[1;33m\u001b[0m\u001b[0m\n",
      "\u001b[1;31mModuleNotFoundError\u001b[0m: No module named 'sklearn'"
     ]
    }
   ],
   "source": [
    "# load necessary libraries \n",
    "# Ignore useless warnings (see SciPy issue #5998)\n",
    "import warnings\n",
    "warnings.filterwarnings(action=\"ignore\", message=\"^internal gelsd\")\n",
    "\n",
    "import sys # Python ≥3.5 is required\n",
    "assert sys.version_info >= (3, 5)\n",
    "import os\n",
    "\n",
    "import sklearn # Scikit-Learn ≥0.20 is required\n",
    "assert sklearn.__version__ >= \"0.20\"\n",
    "import pandas as pd\n",
    "import numpy as np\n",
    "import matplotlib.pyplot as plt"
   ]
  },
  {
   "cell_type": "markdown",
   "metadata": {},
   "source": [
    "##### Load Data from csv into pandas\n",
    "After veiwing the data, in pandas table, we see they are reltively close in scale and no more than x1000 of each other, so we use the original dataset instead of their z-score for this particular dataset."
   ]
  },
  {
   "cell_type": "code",
   "execution_count": 94,
   "metadata": {},
   "outputs": [
    {
     "data": {
      "text/html": [
       "<div>\n",
       "<style scoped>\n",
       "    .dataframe tbody tr th:only-of-type {\n",
       "        vertical-align: middle;\n",
       "    }\n",
       "\n",
       "    .dataframe tbody tr th {\n",
       "        vertical-align: top;\n",
       "    }\n",
       "\n",
       "    .dataframe thead th {\n",
       "        text-align: right;\n",
       "    }\n",
       "</style>\n",
       "<table border=\"1\" class=\"dataframe\">\n",
       "  <thead>\n",
       "    <tr style=\"text-align: right;\">\n",
       "      <th></th>\n",
       "      <th>0</th>\n",
       "      <th>1</th>\n",
       "      <th>2</th>\n",
       "      <th>3</th>\n",
       "      <th>4</th>\n",
       "      <th>5</th>\n",
       "      <th>6</th>\n",
       "    </tr>\n",
       "  </thead>\n",
       "  <tbody>\n",
       "    <tr>\n",
       "      <td>0</td>\n",
       "      <td>0.492552</td>\n",
       "      <td>721.082614</td>\n",
       "      <td>5.042228</td>\n",
       "      <td>5.734170</td>\n",
       "      <td>2.112189</td>\n",
       "      <td>1.0</td>\n",
       "      <td>8.839982</td>\n",
       "    </tr>\n",
       "    <tr>\n",
       "      <td>1</td>\n",
       "      <td>4.390627</td>\n",
       "      <td>152.174641</td>\n",
       "      <td>6.075001</td>\n",
       "      <td>-78.633467</td>\n",
       "      <td>1.761183</td>\n",
       "      <td>3.0</td>\n",
       "      <td>-43.317974</td>\n",
       "    </tr>\n",
       "    <tr>\n",
       "      <td>2</td>\n",
       "      <td>-4.704564</td>\n",
       "      <td>655.334927</td>\n",
       "      <td>-0.742042</td>\n",
       "      <td>105.609595</td>\n",
       "      <td>1.543370</td>\n",
       "      <td>1.0</td>\n",
       "      <td>59.738018</td>\n",
       "    </tr>\n",
       "    <tr>\n",
       "      <td>3</td>\n",
       "      <td>-3.068747</td>\n",
       "      <td>789.916294</td>\n",
       "      <td>2.354023</td>\n",
       "      <td>20.049982</td>\n",
       "      <td>4.242583</td>\n",
       "      <td>4.0</td>\n",
       "      <td>8.852986</td>\n",
       "    </tr>\n",
       "    <tr>\n",
       "      <td>4</td>\n",
       "      <td>1.553264</td>\n",
       "      <td>346.778534</td>\n",
       "      <td>4.814482</td>\n",
       "      <td>3.598750</td>\n",
       "      <td>-0.491743</td>\n",
       "      <td>2.0</td>\n",
       "      <td>10.701917</td>\n",
       "    </tr>\n",
       "    <tr>\n",
       "      <td>...</td>\n",
       "      <td>...</td>\n",
       "      <td>...</td>\n",
       "      <td>...</td>\n",
       "      <td>...</td>\n",
       "      <td>...</td>\n",
       "      <td>...</td>\n",
       "      <td>...</td>\n",
       "    </tr>\n",
       "    <tr>\n",
       "      <td>9995</td>\n",
       "      <td>2.471096</td>\n",
       "      <td>300.955890</td>\n",
       "      <td>2.683012</td>\n",
       "      <td>-10.337859</td>\n",
       "      <td>0.782186</td>\n",
       "      <td>3.0</td>\n",
       "      <td>-2.278556</td>\n",
       "    </tr>\n",
       "    <tr>\n",
       "      <td>9996</td>\n",
       "      <td>-0.996662</td>\n",
       "      <td>370.753199</td>\n",
       "      <td>0.970519</td>\n",
       "      <td>7.284112</td>\n",
       "      <td>-3.684173</td>\n",
       "      <td>0.0</td>\n",
       "      <td>25.793811</td>\n",
       "    </tr>\n",
       "    <tr>\n",
       "      <td>9997</td>\n",
       "      <td>-4.190821</td>\n",
       "      <td>326.822124</td>\n",
       "      <td>-3.158497</td>\n",
       "      <td>75.902756</td>\n",
       "      <td>3.688309</td>\n",
       "      <td>2.0</td>\n",
       "      <td>29.734586</td>\n",
       "    </tr>\n",
       "    <tr>\n",
       "      <td>9998</td>\n",
       "      <td>-1.805299</td>\n",
       "      <td>280.668630</td>\n",
       "      <td>1.087589</td>\n",
       "      <td>13.862326</td>\n",
       "      <td>1.630465</td>\n",
       "      <td>4.0</td>\n",
       "      <td>6.022675</td>\n",
       "    </tr>\n",
       "    <tr>\n",
       "      <td>9999</td>\n",
       "      <td>-2.220976</td>\n",
       "      <td>263.983603</td>\n",
       "      <td>1.681055</td>\n",
       "      <td>8.074300</td>\n",
       "      <td>-1.610552</td>\n",
       "      <td>0.0</td>\n",
       "      <td>15.759028</td>\n",
       "    </tr>\n",
       "  </tbody>\n",
       "</table>\n",
       "<p>10000 rows × 7 columns</p>\n",
       "</div>"
      ],
      "text/plain": [
       "             0           1         2           3         4    5          6\n",
       "0     0.492552  721.082614  5.042228    5.734170  2.112189  1.0   8.839982\n",
       "1     4.390627  152.174641  6.075001  -78.633467  1.761183  3.0 -43.317974\n",
       "2    -4.704564  655.334927 -0.742042  105.609595  1.543370  1.0  59.738018\n",
       "3    -3.068747  789.916294  2.354023   20.049982  4.242583  4.0   8.852986\n",
       "4     1.553264  346.778534  4.814482    3.598750 -0.491743  2.0  10.701917\n",
       "...        ...         ...       ...         ...       ...  ...        ...\n",
       "9995  2.471096  300.955890  2.683012  -10.337859  0.782186  3.0  -2.278556\n",
       "9996 -0.996662  370.753199  0.970519    7.284112 -3.684173  0.0  25.793811\n",
       "9997 -4.190821  326.822124 -3.158497   75.902756  3.688309  2.0  29.734586\n",
       "9998 -1.805299  280.668630  1.087589   13.862326  1.630465  4.0   6.022675\n",
       "9999 -2.220976  263.983603  1.681055    8.074300 -1.610552  0.0  15.759028\n",
       "\n",
       "[10000 rows x 7 columns]"
      ]
     },
     "execution_count": 94,
     "metadata": {},
     "output_type": "execute_result"
    }
   ],
   "source": [
    "# The data in DataProblem.csv consists of \n",
    "# a header of seven columns followed by\n",
    "# 10,000 data point\n",
    "data = pd.read_csv(filepath_or_buffer=\"DataProblem.csv\", header = 0, usecols = range(1,8))\n",
    "data"
   ]
  },
  {
   "cell_type": "markdown",
   "metadata": {},
   "source": [
    "##### Split dataset into training and testing datatest"
   ]
  },
  {
   "cell_type": "code",
   "execution_count": 89,
   "metadata": {},
   "outputs": [],
   "source": [
    "# use the first 8000 items for training and the final 2000 for testing.\n",
    "from sklearn.model_selection import train_test_split\n",
    "train_data, test_data = train_test_split(data, shuffle = False, test_size = 0.2, train_size = 0.8)"
   ]
  },
  {
   "cell_type": "code",
   "execution_count": 90,
   "metadata": {},
   "outputs": [],
   "source": [
    "# split the last column as the output Y and the rest input X\n",
    "cols = train_data.columns\n",
    "trainY = train_data[cols[-1:]]\n",
    "trainX = train_data[cols[:-1]]"
   ]
  },
  {
   "cell_type": "markdown",
   "metadata": {},
   "source": [
    "##### Train a linear regression model "
   ]
  },
  {
   "cell_type": "code",
   "execution_count": 91,
   "metadata": {},
   "outputs": [
    {
     "name": "stdout",
     "output_type": "stream",
     "text": [
      "The coefficient of determination R^2 is 1.0\n",
      "The weights found are [ 2.02027773e-15  2.00000000e-02  3.32481829e-16  5.00000000e-01\n",
      " -4.00000000e+00  1.13085336e-16]\n",
      "The intercept found is -3.375077994860476e-14\n"
     ]
    }
   ],
   "source": [
    "from sklearn.linear_model import LinearRegression\n",
    "reg = LinearRegression().fit(trainX, trainY)\n",
    "print(\"The coefficient of determination R^2 is %s\" % reg.score(trainX, trainY))\n",
    "print(\"The weights found are\", reg.coef_[0])\n",
    "print(\"The intercept found is\" , reg.intercept_[0])"
   ]
  },
  {
   "cell_type": "markdown",
   "metadata": {},
   "source": [
    "#### Analysis:\n",
    "**Look into $R^2$ scoring of the linear regression model and use it as a summary statistic. Explain how you\n",
    "interpret the R2 values.**   \n",
    "</br>\n",
    "\n",
    "The coefficient of determination $R^2$ = 1, means that the /linear regression model fits training data perfectly. The fitted function successfully maps every datapoint onto the desired output. \n",
    "\n",
    "**Can you eliminate any of the variables and still obtain a good solution? Rank the variables in order of importance as predictors in your final solution.**  </br>\n",
    "\n",
    "Yes, if we look at the weights of the functions, some of them are extremely small compared to others. Call the weights for the ith column $w_i$. Then we can sort their importance by their magnitude: $w_5 > w_4 > w_2 > w_1 > w_3 > w_6$. See the bottom of this notebook for a little experiment on the result."
   ]
  },
  {
   "cell_type": "markdown",
   "metadata": {},
   "source": [
    "The plot of predicted testing values versus the actual testing values in a 2-D plot. "
   ]
  },
  {
   "cell_type": "code",
   "execution_count": 95,
   "metadata": {},
   "outputs": [
    {
     "data": {
      "text/plain": [
       "[<matplotlib.lines.Line2D at 0x2460f6e0d48>]"
      ]
     },
     "execution_count": 95,
     "metadata": {},
     "output_type": "execute_result"
    },
    {
     "data": {
      "image/png": "[encoded data removed]",
      "text/plain": [
       "<Figure size 432x288 with 1 Axes>"
      ]
     },
     "metadata": {
      "needs_background": "light"
     },
     "output_type": "display_data"
    }
   ],
   "source": [
    "pred_val = reg.predict(test_data[cols[:-1]])\n",
    "test_val = test_data[cols[-1:]].to_numpy()\n",
    "plt.plot(test_val, pred_val)"
   ]
  },
  {
   "cell_type": "markdown",
   "metadata": {},
   "source": [
    "This line is a perfect x=y graph. In other words, pred_val = test_val and the linear regression is flawless on the testing dateset. "
   ]
  },
  {
   "cell_type": "markdown",
   "metadata": {},
   "source": [
    "#### Which columns actually matter?\n",
    "To see which columns actually matter, we write a remove_columns function to perform linear regression with certian columns removed."
   ]
  },
  {
   "cell_type": "code",
   "execution_count": 143,
   "metadata": {},
   "outputs": [],
   "source": [
    "# split the last column as the output Y and the rest input X\n",
    "def remove_columns(C):\n",
    "    # sample input C = ['0', '5'] \n",
    "    trainY = train_data[cols[-1:]]\n",
    "    trainX = train_data[cols[:-1].delete(C)]\n",
    "    reg = LinearRegression().fit(trainX, trainY)\n",
    "    r_2 = reg.score(trainX, trainY)\n",
    "    print(\"Removing weights with index\", C)\n",
    "    print(\"The coefficient of determination R^2 is %s\" % r_2)\n",
    "    pred_val = reg.predict(test_data[cols[:-1].delete(C)])\n",
    "    test_val = test_data[cols[-1:]].to_numpy()\n",
    "    plt.scatter(test_val, pred_val)\n",
    "    plt.show()\n",
    "    return r_2"
   ]
  },
  {
   "cell_type": "markdown",
   "metadata": {},
   "source": [
    "Let's see how much each column affects the linear regression."
   ]
  },
  {
   "cell_type": "code",
   "execution_count": 145,
   "metadata": {
    "scrolled": false
   },
   "outputs": [
    {
     "name": "stdout",
     "output_type": "stream",
     "text": [
      "Removing weights with index 0\n",
      "The coefficient of determination R^2 is 1.0\n"
     ]
    },
    {
     "data": {
      "image/png": "[encoded data removed]",
      "text/plain": [
       "<Figure size 432x288 with 1 Axes>"
      ]
     },
     "metadata": {
      "needs_background": "light"
     },
     "output_type": "display_data"
    },
    {
     "name": "stdout",
     "output_type": "stream",
     "text": [
      "Removing weights with index 1\n",
      "The coefficient of determination R^2 is 0.9568115733994982\n"
     ]
    },
    {
     "data": {
      "image/png": "[encoded data removed]",
      "text/plain": [
       "<Figure size 432x288 with 1 Axes>"
      ]
     },
     "metadata": {
      "needs_background": "light"
     },
     "output_type": "display_data"
    },
    {
     "name": "stdout",
     "output_type": "stream",
     "text": [
      "Removing weights with index 2\n",
      "The coefficient of determination R^2 is 1.0\n"
     ]
    },
    {
     "data": {
      "image/png": "[encoded data removed]",
      "text/plain": [
       "<Figure size 432x288 with 1 Axes>"
      ]
     },
     "metadata": {
      "needs_background": "light"
     },
     "output_type": "display_data"
    },
    {
     "name": "stdout",
     "output_type": "stream",
     "text": [
      "Removing weights with index 3\n",
      "The coefficient of determination R^2 is 0.8524805313907144\n"
     ]
    },
    {
     "data": {
      "image/png": "[encoded data removed]",
      "text/plain": [
       "<Figure size 432x288 with 1 Axes>"
      ]
     },
     "metadata": {
      "needs_background": "light"
     },
     "output_type": "display_data"
    },
    {
     "name": "stdout",
     "output_type": "stream",
     "text": [
      "Removing weights with index 4\n",
      "The coefficient of determination R^2 is 0.8113992161939825\n"
     ]
    },
    {
     "data": {
      "image/png": "[encoded data removed]",
      "text/plain": [
       "<Figure size 432x288 with 1 Axes>"
      ]
     },
     "metadata": {
      "needs_background": "light"
     },
     "output_type": "display_data"
    },
    {
     "name": "stdout",
     "output_type": "stream",
     "text": [
      "Removing weights with index 5\n",
      "The coefficient of determination R^2 is 1.0\n"
     ]
    },
    {
     "data": {
      "image/png": "[encoded data removed]",
      "text/plain": [
       "<Figure size 432x288 with 1 Axes>"
      ]
     },
     "metadata": {
      "needs_background": "light"
     },
     "output_type": "display_data"
    }
   ],
   "source": [
    "weights = {}\n",
    "for i in range(6):\n",
    "    r_2 = remove_columns(str(i))\n",
    "    weights[i] = r_2"
   ]
  },
  {
   "cell_type": "code",
   "execution_count": 168,
   "metadata": {},
   "outputs": [
    {
     "data": {
      "text/plain": [
       "[(4, 0.8113992161939825),\n",
       " (3, 0.8524805313907144),\n",
       " (1, 0.9568115733994982),\n",
       " (0, 1.0),\n",
       " (2, 1.0),\n",
       " (5, 1.0)]"
      ]
     },
     "execution_count": 168,
     "metadata": {},
     "output_type": "execute_result"
    }
   ],
   "source": [
    "weights_by_importance = sorted(weights.items(), key = lambda kv:(kv[1], kv[0]))\n",
    "weights_by_importance"
   ]
  },
  {
   "cell_type": "markdown",
   "metadata": {},
   "source": [
    "The above cell prints out (i, r_2), where the ith column is removed and the corresponding $R^2$, so we conclude that removing column 0, 2 and 5 doesn't change the result of the linear regression. Now that's try to verify that:"
   ]
  },
  {
   "cell_type": "code",
   "execution_count": 175,
   "metadata": {},
   "outputs": [
    {
     "name": "stdout",
     "output_type": "stream",
     "text": [
      "Removing weights with index ['0', '2', '5']\n",
      "The coefficient of determination R^2 is 1.0\n"
     ]
    },
    {
     "data": {
      "image/png": "[encoded data removed]",
      "text/plain": [
       "<Figure size 432x288 with 1 Axes>"
      ]
     },
     "metadata": {
      "needs_background": "light"
     },
     "output_type": "display_data"
    },
    {
     "data": {
      "text/plain": [
       "1.0"
      ]
     },
     "execution_count": 175,
     "metadata": {},
     "output_type": "execute_result"
    }
   ],
   "source": [
    "remove_columns(['0', '2', '5'])"
   ]
  },
  {
   "cell_type": "markdown",
   "metadata": {},
   "source": [
    "In contrast, removing the other three important columns changes the result significanlty. "
   ]
  },
  {
   "cell_type": "code",
   "execution_count": 178,
   "metadata": {},
   "outputs": [
    {
     "name": "stdout",
     "output_type": "stream",
     "text": [
      "Removing weights with index ['1', '3', '4']\n",
      "The coefficient of determination R^2 is 0.6207393040414884\n"
     ]
    },
    {
     "data": {
      "image/png": "[encoded data removed]",
      "text/plain": [
       "<Figure size 432x288 with 1 Axes>"
      ]
     },
     "metadata": {
      "needs_background": "light"
     },
     "output_type": "display_data"
    },
    {
     "data": {
      "text/plain": [
       "0.6207393040414884"
      ]
     },
     "execution_count": 178,
     "metadata": {},
     "output_type": "execute_result"
    }
   ],
   "source": [
    "remove_columns(['1', '3', '4'])"
   ]
  },
  {
   "cell_type": "code",
   "execution_count": null,
   "metadata": {},
   "outputs": [],
   "source": []
  }
 ],
 "metadata": {
  "kernelspec": {
   "display_name": "Python 3",
   "language": "python",
   "name": "python3"
  },
  "language_info": {
   "codemirror_mode": {
    "name": "ipython",
    "version": 3
   },
   "file_extension": ".py",
   "mimetype": "text/x-python",
   "name": "python",
   "nbconvert_exporter": "python",
   "pygments_lexer": "ipython3",
   "version": "3.7.7"
  }
 },
 "nbformat": 4,
 "nbformat_minor": 2
}
