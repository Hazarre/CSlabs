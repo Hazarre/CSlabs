{
 "cells": [
  {
   "cell_type": "code",
   "execution_count": 1,
   "metadata": {},
   "outputs": [
    {
     "data": {
      "text/html": [
       "<style type='text/css'>.CodeMirror{\n",
       "font-size: 18px;\n",
       "</style>\n"
      ],
      "text/plain": [
       "<IPython.core.display.HTML object>"
      ]
     },
     "metadata": {},
     "output_type": "display_data"
    }
   ],
   "source": [
    "%%html\n",
    "<style type='text/css'>.CodeMirror{\n",
    "font-size: 18px;\n",
    "</style>"
   ]
  },
  {
   "cell_type": "code",
   "execution_count": 2,
   "metadata": {},
   "outputs": [
    {
     "data": {
      "text/html": [
       "<style>.rendered_html { font-size: 18px; }</style>"
      ],
      "text/plain": [
       "<IPython.core.display.HTML object>"
      ]
     },
     "metadata": {},
     "output_type": "display_data"
    }
   ],
   "source": [
    "from IPython.core.display import display, HTML\n",
    "display(HTML(\"<style>.rendered_html { font-size: 18px; }</style>\"))"
   ]
  },
  {
   "cell_type": "markdown",
   "metadata": {},
   "source": [
    "# Linear Regression\n",
    "\n",
    "Given data about automobiles, we'd like to predict their gasoline consumption from their engine horsepower.\n",
    "\n"
   ]
  },
  {
   "cell_type": "code",
   "execution_count": 3,
   "metadata": {},
   "outputs": [
    {
     "name": "stderr",
     "output_type": "stream",
     "text": [
      "\n",
      "Bad key \"text.kerning_factor\" on line 4 in\n",
      "/home/sven/lib/anaconda3/lib/python3.7/site-packages/matplotlib/mpl-data/stylelib/_classic_test_patch.mplstyle.\n",
      "You probably need to get an updated matplotlibrc file from\n",
      "https://github.com/matplotlib/matplotlib/blob/v3.1.3/matplotlibrc.template\n",
      "or from the matplotlib source distribution\n"
     ]
    }
   ],
   "source": [
    "import pandas as pd\n",
    "import numpy as np\n",
    "import matplotlib.pyplot as plt\n",
    "\n",
    "%matplotlib inline"
   ]
  },
  {
   "cell_type": "code",
   "execution_count": 4,
   "metadata": {},
   "outputs": [],
   "source": [
    "def readDat(fname):\n",
    "    '''\n",
    "    :param fname: input file\n",
    "    Assumes a first comment line is attribute names\n",
    "    Other rows are attribute values\n",
    "    :returns: numpy array of data, one example per row.\n",
    "    '''\n",
    "    with open(fname,'r') as fd:\n",
    "        dat = []\n",
    "        attribs = None\n",
    "        for line in fd.readlines():\n",
    "            if line[0] == '#': #ignore comments\n",
    "                attribs = line.split()[1:]\n",
    "            else:\n",
    "                x = line.split()\n",
    "                vals = [ float(val) for val in x ]\n",
    "                dat.append( vals ) # convert to floats and append\n",
    "    return attribs,np.array(dat)"
   ]
  },
  {
   "cell_type": "code",
   "execution_count": 5,
   "metadata": {},
   "outputs": [],
   "source": [
    "attr,dat = readDat('auto.dat')"
   ]
  },
  {
   "cell_type": "markdown",
   "metadata": {},
   "source": [
    "## Use Pandas to open Auto data"
   ]
  },
  {
   "cell_type": "code",
   "execution_count": 6,
   "metadata": {
    "scrolled": false
   },
   "outputs": [],
   "source": [
    "## Look at data\n",
    "auto_dataframe = pd.DataFrame(dat,columns=attr)\n",
    "#pd.plotting.scatter_matrix(auto_dataframe,figsize=(15,15),marker='0',hist_kwds={'bins':20},s=60,alpha=0.8);"
   ]
  },
  {
   "cell_type": "code",
   "execution_count": 7,
   "metadata": {},
   "outputs": [
    {
     "data": {
      "text/html": [
       "<div>\n",
       "<style scoped>\n",
       "    .dataframe tbody tr th:only-of-type {\n",
       "        vertical-align: middle;\n",
       "    }\n",
       "\n",
       "    .dataframe tbody tr th {\n",
       "        vertical-align: top;\n",
       "    }\n",
       "\n",
       "    .dataframe thead th {\n",
       "        text-align: right;\n",
       "    }\n",
       "</style>\n",
       "<table border=\"1\" class=\"dataframe\">\n",
       "  <thead>\n",
       "    <tr style=\"text-align: right;\">\n",
       "      <th></th>\n",
       "      <th>cyl</th>\n",
       "      <th>disp</th>\n",
       "      <th>horse</th>\n",
       "      <th>weight</th>\n",
       "      <th>accel</th>\n",
       "      <th>year</th>\n",
       "      <th>mpg</th>\n",
       "    </tr>\n",
       "  </thead>\n",
       "  <tbody>\n",
       "    <tr>\n",
       "      <th>0</th>\n",
       "      <td>8.0</td>\n",
       "      <td>307.0</td>\n",
       "      <td>130.0</td>\n",
       "      <td>3504.0</td>\n",
       "      <td>12.0</td>\n",
       "      <td>70.0</td>\n",
       "      <td>18.0</td>\n",
       "    </tr>\n",
       "    <tr>\n",
       "      <th>1</th>\n",
       "      <td>8.0</td>\n",
       "      <td>350.0</td>\n",
       "      <td>165.0</td>\n",
       "      <td>3693.0</td>\n",
       "      <td>11.5</td>\n",
       "      <td>70.0</td>\n",
       "      <td>15.0</td>\n",
       "    </tr>\n",
       "    <tr>\n",
       "      <th>2</th>\n",
       "      <td>8.0</td>\n",
       "      <td>318.0</td>\n",
       "      <td>150.0</td>\n",
       "      <td>3436.0</td>\n",
       "      <td>11.0</td>\n",
       "      <td>70.0</td>\n",
       "      <td>18.0</td>\n",
       "    </tr>\n",
       "    <tr>\n",
       "      <th>3</th>\n",
       "      <td>8.0</td>\n",
       "      <td>304.0</td>\n",
       "      <td>150.0</td>\n",
       "      <td>3433.0</td>\n",
       "      <td>12.0</td>\n",
       "      <td>70.0</td>\n",
       "      <td>16.0</td>\n",
       "    </tr>\n",
       "    <tr>\n",
       "      <th>4</th>\n",
       "      <td>8.0</td>\n",
       "      <td>302.0</td>\n",
       "      <td>140.0</td>\n",
       "      <td>3449.0</td>\n",
       "      <td>10.5</td>\n",
       "      <td>70.0</td>\n",
       "      <td>17.0</td>\n",
       "    </tr>\n",
       "  </tbody>\n",
       "</table>\n",
       "</div>"
      ],
      "text/plain": [
       "   cyl   disp  horse  weight  accel  year   mpg\n",
       "0  8.0  307.0  130.0  3504.0   12.0  70.0  18.0\n",
       "1  8.0  350.0  165.0  3693.0   11.5  70.0  15.0\n",
       "2  8.0  318.0  150.0  3436.0   11.0  70.0  18.0\n",
       "3  8.0  304.0  150.0  3433.0   12.0  70.0  16.0\n",
       "4  8.0  302.0  140.0  3449.0   10.5  70.0  17.0"
      ]
     },
     "execution_count": 7,
     "metadata": {},
     "output_type": "execute_result"
    }
   ],
   "source": [
    "df = auto_dataframe\n",
    "df.head()"
   ]
  },
  {
   "cell_type": "code",
   "execution_count": 8,
   "metadata": {},
   "outputs": [],
   "source": [
    "import os\n",
    "\n",
    "def myplot(df,xvar,yvar):\n",
    "    '''plot using pandas col names'''\n",
    "    plt.figure(figsize=(15,10))\n",
    "    plt.rcParams.update({'font.size': 22})\n",
    "    plt.scatter(df[xvar],df[yvar])\n",
    "    plt.xlabel(xvar)\n",
    "    plt.ylabel(yvar)\n",
    "    \n",
    "def save_fig(fig_id, tight_layout=True, fig_extension=\"png\", resolution=300):\n",
    "    path = os.path.join(\".\", fig_id + \".\" + fig_extension)\n",
    "    print(\"Saving figure\", fig_id)\n",
    "    if tight_layout:\n",
    "        plt.tight_layout()\n",
    "    plt.savefig(path, format=fig_extension, dpi=resolution)"
   ]
  },
  {
   "cell_type": "code",
   "execution_count": 9,
   "metadata": {},
   "outputs": [
    {
     "name": "stdout",
     "output_type": "stream",
     "text": [
      "Saving figure horseVSmpg\n"
     ]
    },
    {
     "data": {
      "image/png": "[encoded data removed]",
      "text/plain": [
       "<Figure size 1080x720 with 1 Axes>"
      ]
     },
     "metadata": {
      "needs_background": "light"
     },
     "output_type": "display_data"
    }
   ],
   "source": [
    "myplot(df,'horse','mpg')\n",
    "save_fig('horseVSmpg')"
   ]
  },
  {
   "cell_type": "markdown",
   "metadata": {},
   "source": [
    "## Let's fit MPG vs. horsepower using linear regression."
   ]
  },
  {
   "cell_type": "code",
   "execution_count": 10,
   "metadata": {},
   "outputs": [],
   "source": [
    "def gradStep(dat,p):\n",
    "    '''\n",
    "    Calculate one update of the parameters in p via gradient descent\n",
    "    algorithm.\n",
    "    dat: all input data\n",
    "    p: parameters of linear equation to be adjusted\n",
    "    '''\n",
    "    sum = np.zeros(2)\n",
    "    # Variables are x = x[0:2], with x[0] always equal to 1.\n",
    "    for x in dat:\n",
    "        sum += (np.dot(p,x[0:2]) - x[2]) * x[0:2]\n",
    "    return sum / len(dat)\n",
    "\n",
    "\n",
    "def cost(dat,p):\n",
    "    '''Cost function (sum of squares of differences)'''\n",
    "    sum = 0\n",
    "    for x in dat:\n",
    "        sum += ( np.dot(x[0:2], p) - x[2] )**2\n",
    "    return sum / (2.0 * len(dat))"
   ]
  },
  {
   "cell_type": "code",
   "execution_count": 11,
   "metadata": {},
   "outputs": [],
   "source": [
    "def gradStepStoch(dat,p,alpha):\n",
    "    '''\n",
    "    Calculate one update of the parameters in p via stochastic gradient descent\n",
    "    algorithm.\n",
    "    dat: all input data\n",
    "    p: parameters of linear equation to be adjusted\n",
    "    '''\n",
    "    # For all data items sum term, (h(x) - y)*x \n",
    "    # Predicted value is y = x[2]\n",
    "    # Variables are x = x[0:2], with x[0] always equal to 1.\n",
    "    for x in dat:\n",
    "        # It's critical to separate calculation of diff\n",
    "        # from changes to parameters p!\n",
    "        diff = np.dot(p,x[0:2]) - x[2]\n",
    "        p[0] += -alpha * diff * x[0]\n",
    "        p[1] += -alpha * diff * x[1]\n"
   ]
  },
  {
   "cell_type": "code",
   "execution_count": 12,
   "metadata": {},
   "outputs": [],
   "source": [
    "def regress(dat,limit=0.001,alpha=1e-8):\n",
    "    '''Use linear regression to predict col2 from col1 in dat'''\n",
    "    p = np.random.rand(2) - 0.5   # two random values ((these are the parameters to determine)\n",
    "   \n",
    "    newp = p.copy()\n",
    "    \n",
    "    err = cost(dat,p)\n",
    "    print(err)\n",
    "    olderr = 2 * err\n",
    "\n",
    "    while olderr - err > limit: # terminate when error change is small\n",
    "        gradStepStoch(dat,p,alpha) # calculate gradient step\n",
    "        olderr = err\n",
    "        err = cost(dat,p) # determine cost (error)\n",
    "    print('Error',err,olderr)\n",
    "    print ('Parameters: ', p)"
   ]
  },
  {
   "cell_type": "code",
   "execution_count": 13,
   "metadata": {},
   "outputs": [],
   "source": [
    "ndat = len(df['horse'])\n",
    "bias = np.ones((ndat,1))\n",
    "regressDat = np.concatenate((bias,df[['horse','mpg']].to_numpy())\n",
    "                            ,axis=1)"
   ]
  },
  {
   "cell_type": "code",
   "execution_count": 14,
   "metadata": {},
   "outputs": [
    {
     "data": {
      "text/plain": [
       "array([[  1., 165.,  15.],\n",
       "       [  1., 150.,  18.],\n",
       "       [  1., 150.,  16.],\n",
       "       [  1., 140.,  17.],\n",
       "       [  1., 198.,  15.],\n",
       "       [  1., 220.,  14.],\n",
       "       [  1., 215.,  14.],\n",
       "       [  1., 225.,  14.],\n",
       "       [  1., 190.,  15.]])"
      ]
     },
     "execution_count": 14,
     "metadata": {},
     "output_type": "execute_result"
    }
   ],
   "source": [
    "regressDat[1:10]\n"
   ]
  },
  {
   "cell_type": "markdown",
   "metadata": {},
   "source": [
    "## Plot the data and the obtained line."
   ]
  },
  {
   "cell_type": "code",
   "execution_count": 15,
   "metadata": {},
   "outputs": [
    {
     "name": "stdout",
     "output_type": "stream",
     "text": [
      "165.45820104342337\n",
      "Error 107.08245271702607 107.08246270621464\n",
      "Parameters:  [-0.00224711  0.17876723]\n"
     ]
    }
   ],
   "source": [
    "regress(regressDat,1e-5,1e-9) # How do the estimated parameters look?"
   ]
  },
  {
   "cell_type": "code",
   "execution_count": 16,
   "metadata": {},
   "outputs": [
    {
     "data": {
      "text/plain": [
       "[<matplotlib.lines.Line2D at 0x7f986c5eb050>]"
      ]
     },
     "execution_count": 16,
     "metadata": {},
     "output_type": "execute_result"
    },
    {
     "data": {
      "image/png": "[encoded data removed]",
      "text/plain": [
       "<Figure size 432x288 with 1 Axes>"
      ]
     },
     "metadata": {
      "needs_background": "light"
     },
     "output_type": "display_data"
    }
   ],
   "source": [
    "x= regressDat[:,1]\n",
    "plt.scatter(x,regressDat[:,2])\n",
    "plt.plot(x, .39 + 0.175*x,'r')"
   ]
  },
  {
   "cell_type": "markdown",
   "metadata": {},
   "source": [
    "## Is this correct?  Can you fix it?"
   ]
  },
  {
   "cell_type": "markdown",
   "metadata": {},
   "source": [
    "## Compare with sklearn"
   ]
  },
  {
   "cell_type": "code",
   "execution_count": 17,
   "metadata": {},
   "outputs": [],
   "source": [
    "from sklearn.linear_model import LinearRegression"
   ]
  },
  {
   "cell_type": "code",
   "execution_count": 18,
   "metadata": {},
   "outputs": [
    {
     "name": "stdout",
     "output_type": "stream",
     "text": [
      "[39.93586102] [[-0.15784473]]\n"
     ]
    }
   ],
   "source": [
    "nrows = len(regressDat)\n",
    "x = regressDat[:,1].reshape((nrows,1))\n",
    "y = regressDat[:,2].reshape((nrows,1))\n",
    "lr = LinearRegression().fit(x,y)\n",
    "m = lr.coef_\n",
    "b = lr.intercept_\n",
    "print(lr.intercept_,lr.coef_) # intercept and slope"
   ]
  },
  {
   "cell_type": "code",
   "execution_count": 19,
   "metadata": {},
   "outputs": [
    {
     "data": {
      "text/plain": [
       "[<matplotlib.lines.Line2D at 0x7f9869f88e10>]"
      ]
     },
     "execution_count": 19,
     "metadata": {},
     "output_type": "execute_result"
    },
    {
     "data": {
      "image/png": "[encoded data removed]",
      "text/plain": [
       "<Figure size 432x288 with 1 Axes>"
      ]
     },
     "metadata": {
      "needs_background": "light"
     },
     "output_type": "display_data"
    }
   ],
   "source": [
    "x= regressDat[:,1]\n",
    "plt.scatter(x,regressDat[:,2])\n",
    "plt.plot(x, lr.intercept_ + lr.coef_[0]*x,'r')"
   ]
  },
  {
   "cell_type": "markdown",
   "metadata": {},
   "source": [
    "## We clearly have a problem, right?\n",
    "\n",
    "Let's clean up our data so that all variables have the same scale.  When variables are of different scales, the derivative of one can completely dominate the contribution of the other variables."
   ]
  },
  {
   "cell_type": "markdown",
   "metadata": {},
   "source": [
    "# Pandas and Enhancements to Regression"
   ]
  },
  {
   "cell_type": "markdown",
   "metadata": {},
   "source": [
    "As it stands, some variables like weight have large values, whereas others, like the number of cylinders, have small values.  We can put all variables on equal footing if we convert them to z scores $z = \\frac{(x-\\mu)}{\\sigma}$"
   ]
  },
  {
   "cell_type": "code",
   "execution_count": 20,
   "metadata": {},
   "outputs": [],
   "source": [
    "from sklearn import preprocessing\n",
    "from numpy.linalg import inv\n",
    "\n",
    "class rescale:\n",
    "    '''Rescale vars and provide inverse.\n",
    "        Assumes zeroth column is all ones, the bias.\n",
    "    '''\n",
    "    def __init__(self,dat):\n",
    "        self.dat = dat\n",
    "        self.means = dat.mean(axis=0)\n",
    "        self.stdevs = dat.std(axis=0)\n",
    "        if 0 in self.stdevs[1:]:\n",
    "            raise Exception(\"Zero stdev does not permit transform.\")\n",
    "        \n",
    "    def scale(self):\n",
    "        '''Return the data columns scaled to each have \n",
    "        zero mean and stdev of 1.  The zeroth column is\n",
    "        not scaled.\n",
    "        '''\n",
    "        self.scaled = preprocessing.scale(self.dat)\n",
    "        self.scaled[:,0] = self.dat[:,0] # Copy back the bias column\n",
    "        return self.scaled\n",
    "    \n",
    "    def transform(self,x):\n",
    "        '''Transform x[1:] to new zscore.  Does not change x[0].'''\n",
    "        z = np.zeros(len(x))\n",
    "        z[0] = x[0]\n",
    "        for i in range(1,len(x)):\n",
    "            z[i] = (x[i] - self.means[i]) / self.stdevs[i]\n",
    "        return z\n",
    "              "
   ]
  },
  {
   "cell_type": "code",
   "execution_count": 21,
   "metadata": {},
   "outputs": [
    {
     "name": "stdout",
     "output_type": "stream",
     "text": [
      "means [ 1.00000000e+00 -3.96508223e-16 -3.83480096e-16]\n",
      "deviations [0. 1. 1.]\n"
     ]
    }
   ],
   "source": [
    "scaler = rescale(regressDat)\n",
    "scaledDat = scaler.scale()\n",
    "print('means',np.mean(scaledDat,axis=0))\n",
    "print('deviations',np.std(scaledDat,axis=0))"
   ]
  },
  {
   "cell_type": "code",
   "execution_count": 22,
   "metadata": {},
   "outputs": [
    {
     "name": "stdout",
     "output_type": "stream",
     "text": [
      "b and m [-3.8075377e-16] [[-0.77842678]]\n"
     ]
    }
   ],
   "source": [
    "#Check with SciKitlearn\n",
    "nrows = len(regressDat)\n",
    "x = scaledDat[:,1].reshape((nrows,1))\n",
    "y = scaledDat[:,2].reshape((nrows,1))\n",
    "lr = LinearRegression().fit(x,y)\n",
    "m = lr.coef_\n",
    "b = lr.intercept_\n",
    "print('b and m',b,m)"
   ]
  },
  {
   "cell_type": "code",
   "execution_count": 23,
   "metadata": {
    "scrolled": false
   },
   "outputs": [
    {
     "name": "stdout",
     "output_type": "stream",
     "text": [
      "0.32158346296586793\n",
      "Error 0.19702596121146446 0.19702596131013658\n",
      "Parameters:  [ 4.13690304e-04 -7.78522558e-01]\n"
     ]
    }
   ],
   "source": [
    "regress(scaledDat,1e-10,1e-5)"
   ]
  },
  {
   "cell_type": "code",
   "execution_count": 24,
   "metadata": {},
   "outputs": [
    {
     "data": {
      "text/plain": [
       "[<matplotlib.lines.Line2D at 0x7f9869679690>]"
      ]
     },
     "execution_count": 24,
     "metadata": {},
     "output_type": "execute_result"
    },
    {
     "data": {
      "image/png": "[encoded data removed]",
      "text/plain": [
       "<Figure size 432x288 with 1 Axes>"
      ]
     },
     "metadata": {
      "needs_background": "light"
     },
     "output_type": "display_data"
    }
   ],
   "source": [
    "x= scaledDat[:,1]\n",
    "plt.scatter(x,scaledDat[:,2])\n",
    "plt.plot(x, lr.intercept_ + lr.coef_[0]*x,'r')"
   ]
  },
  {
   "cell_type": "markdown",
   "metadata": {},
   "source": [
    "## Lesson: Gradient methods are sensitive to differences in variable scale"
   ]
  },
  {
   "cell_type": "markdown",
   "metadata": {},
   "source": [
    "### Note\n",
    "The values we derive are in the renormalized space.  When testing data, we must preserve the mean and standard deviation of the __training data__ so we can renormalize the testing data in the same manner."
   ]
  },
  {
   "cell_type": "markdown",
   "metadata": {},
   "source": [
    "## Regularization\n",
    "\n",
    "When we fit numerous parameters, we would like to avoid overfitting and we may believe that some parameters are more important predictors than others.  Looking at the scatterplots above, which predictors have the most obvious relationships to the MPG we want to predict?\n",
    "\n",
    "One approach to this problem is to enforce a constraint on all parameters that we add to the loss function , $J(\\theta)$.  In particular we use\n",
    "$\n",
    "J(\\theta) = \\sum_{i=1}^{m} ((\\sum_{k=1}^{n} \\theta_k x^{(i)}_k) - y^{(i)})^2 + \\lambda \\sum_{k=1}^{n} \\theta_k^2\n",
    "$\n",
    "Of course, we choose a weighting value, $\\lambda$ and we must still decide whether we want to use stochastic gradient descent."
   ]
  },
  {
   "cell_type": "markdown",
   "metadata": {},
   "source": [
    "## Rewrite our code a bit and include regularization."
   ]
  },
  {
   "cell_type": "code",
   "execution_count": 25,
   "metadata": {},
   "outputs": [],
   "source": [
    "def cost(dat,y,p,regwt=0.0):\n",
    "    '''Cost function (sum of squares of differences).\n",
    "        Implements L2 regularization\n",
    "    '''\n",
    "    sum = 0\n",
    "    for i,x in enumerate(dat):\n",
    "        sum += ( np.dot(x, p) - y[i] )**2 + regwt * np.dot(p,p)\n",
    "    return sum / (2.0 * len(dat))\n",
    "\n",
    "def gradStepStoch(dat,y,p,alpha,regwt=0.0):\n",
    "    '''\n",
    "    Calculate one update of the parameters in p via stochastic gradient descent\n",
    "    algorithm.  \n",
    "    dat: all input data\n",
    "    p: parameters of linear equation to be adjusted\n",
    "    regwt: regularization parameter for L2 regularization\n",
    "    '''\n",
    "    # For all data items sum term, (h(x) - y)*x \n",
    "    # Predicted value is y = x[-1]\n",
    "    # Variables are x = x[0:-1], with x[0] always equal to 1.\n",
    "    for i,x in enumerate(dat):\n",
    "        diff = np.dot(p,x) - y[i]  # TODO: add the new term!\n",
    "        p += -alpha * (diff * x + regwt * p)\n",
    "        \n",
    "\n",
    "def regress(dat,y,regwt=0.0,alpha=1e-3,limit=1e-3):\n",
    "    '''Use linear regression to predict col2 from col1 in dat'''\n",
    "    nparams = np.shape(dat)[1] \n",
    "    p = np.random.rand(nparams) - 0.5 # two random values ((these are the parameters to determine)\n",
    " \n",
    "    err = cost(dat,y,p)\n",
    "    print(err)\n",
    "    olderr = 2 * err\n",
    "\n",
    "    while olderr - err > limit: # terminate when error change is small\n",
    "        gradStepStoch(dat,y,p,alpha,regwt) # calculate gradient step\n",
    "        olderr = err\n",
    "        err = cost(dat,y,p) # determine cost (error)\n",
    "    print('Error',err,olderr)\n",
    "\n",
    "    print ('Parameters: ', p)\n"
   ]
  },
  {
   "cell_type": "code",
   "execution_count": 26,
   "metadata": {},
   "outputs": [
    {
     "name": "stdout",
     "output_type": "stream",
     "text": [
      "0.5021256961892292\n",
      "Error 0.19789602016485885 0.19787900493325136\n",
      "Parameters:  [ 0.03475365 -0.80150236]\n"
     ]
    }
   ],
   "source": [
    "# Check our old problem.\n",
    "x = scaledDat[:,:-1]\n",
    "y = scaledDat[:,-1]\n",
    "regress(x,y,regwt=0.0,alpha=1e-3,limit=1e-6)"
   ]
  },
  {
   "cell_type": "markdown",
   "metadata": {},
   "source": [
    "## Consider regression using ALL features"
   ]
  },
  {
   "cell_type": "code",
   "execution_count": 27,
   "metadata": {},
   "outputs": [],
   "source": [
    "# Now we rescale ALL data\n",
    "nrows = len(dat)\n",
    "bias = np.ones((nrows,1))\n",
    "allDat = np.concatenate( (bias,dat),axis=1)\n",
    "scaler = rescale(allDat)\n",
    "allScaled = scaler.scale()"
   ]
  },
  {
   "cell_type": "code",
   "execution_count": 28,
   "metadata": {},
   "outputs": [
    {
     "data": {
      "text/plain": [
       "(392, 8)"
      ]
     },
     "execution_count": 28,
     "metadata": {},
     "output_type": "execute_result"
    }
   ],
   "source": [
    "np.shape(allDat)"
   ]
  },
  {
   "cell_type": "code",
   "execution_count": 29,
   "metadata": {},
   "outputs": [
    {
     "name": "stdout",
     "output_type": "stream",
     "text": [
      "0.6146793067299247\n",
      "Error 0.10850069101223289 0.10850069111097269\n",
      "Parameters:  [ 0.00081032 -0.13712099 -0.14813437 -0.1430931  -0.29257268 -0.01266447\n",
      "  0.25825525]\n"
     ]
    }
   ],
   "source": [
    "x = allScaled[:,:-1]\n",
    "y = allScaled[:,-1]\n",
    "regress(x,y,regwt=0.3,alpha=1e-4,limit=1e-10)"
   ]
  },
  {
   "cell_type": "code",
   "execution_count": 30,
   "metadata": {},
   "outputs": [
    {
     "name": "stdout",
     "output_type": "stream",
     "text": [
      "0.2673008295882341\n",
      "Error 0.12913895639469855 0.12913895739192197\n",
      "Parameters:  [ 0.00021622 -0.13964134 -0.14758941 -0.13819707 -0.20237048  0.02092353\n",
      "  0.18525837]\n"
     ]
    }
   ],
   "source": [
    "rwt=0.9\n",
    "regress(x,y,rwt,alpha=1e-5,limit=1e-9)\n",
    "            "
   ]
  },
  {
   "cell_type": "code",
   "execution_count": 31,
   "metadata": {},
   "outputs": [
    {
     "data": {
      "text/html": [
       "<div>\n",
       "<style scoped>\n",
       "    .dataframe tbody tr th:only-of-type {\n",
       "        vertical-align: middle;\n",
       "    }\n",
       "\n",
       "    .dataframe tbody tr th {\n",
       "        vertical-align: top;\n",
       "    }\n",
       "\n",
       "    .dataframe thead th {\n",
       "        text-align: right;\n",
       "    }\n",
       "</style>\n",
       "<table border=\"1\" class=\"dataframe\">\n",
       "  <thead>\n",
       "    <tr style=\"text-align: right;\">\n",
       "      <th></th>\n",
       "      <th>cyl</th>\n",
       "      <th>disp</th>\n",
       "      <th>horse</th>\n",
       "      <th>weight</th>\n",
       "      <th>accel</th>\n",
       "      <th>year</th>\n",
       "      <th>mpg</th>\n",
       "    </tr>\n",
       "  </thead>\n",
       "  <tbody>\n",
       "    <tr>\n",
       "      <th>0</th>\n",
       "      <td>8.0</td>\n",
       "      <td>307.0</td>\n",
       "      <td>130.0</td>\n",
       "      <td>3504.0</td>\n",
       "      <td>12.0</td>\n",
       "      <td>70.0</td>\n",
       "      <td>18.0</td>\n",
       "    </tr>\n",
       "    <tr>\n",
       "      <th>1</th>\n",
       "      <td>8.0</td>\n",
       "      <td>350.0</td>\n",
       "      <td>165.0</td>\n",
       "      <td>3693.0</td>\n",
       "      <td>11.5</td>\n",
       "      <td>70.0</td>\n",
       "      <td>15.0</td>\n",
       "    </tr>\n",
       "    <tr>\n",
       "      <th>2</th>\n",
       "      <td>8.0</td>\n",
       "      <td>318.0</td>\n",
       "      <td>150.0</td>\n",
       "      <td>3436.0</td>\n",
       "      <td>11.0</td>\n",
       "      <td>70.0</td>\n",
       "      <td>18.0</td>\n",
       "    </tr>\n",
       "    <tr>\n",
       "      <th>3</th>\n",
       "      <td>8.0</td>\n",
       "      <td>304.0</td>\n",
       "      <td>150.0</td>\n",
       "      <td>3433.0</td>\n",
       "      <td>12.0</td>\n",
       "      <td>70.0</td>\n",
       "      <td>16.0</td>\n",
       "    </tr>\n",
       "    <tr>\n",
       "      <th>4</th>\n",
       "      <td>8.0</td>\n",
       "      <td>302.0</td>\n",
       "      <td>140.0</td>\n",
       "      <td>3449.0</td>\n",
       "      <td>10.5</td>\n",
       "      <td>70.0</td>\n",
       "      <td>17.0</td>\n",
       "    </tr>\n",
       "  </tbody>\n",
       "</table>\n",
       "</div>"
      ],
      "text/plain": [
       "   cyl   disp  horse  weight  accel  year   mpg\n",
       "0  8.0  307.0  130.0  3504.0   12.0  70.0  18.0\n",
       "1  8.0  350.0  165.0  3693.0   11.5  70.0  15.0\n",
       "2  8.0  318.0  150.0  3436.0   11.0  70.0  18.0\n",
       "3  8.0  304.0  150.0  3433.0   12.0  70.0  16.0\n",
       "4  8.0  302.0  140.0  3449.0   10.5  70.0  17.0"
      ]
     },
     "execution_count": 31,
     "metadata": {},
     "output_type": "execute_result"
    }
   ],
   "source": [
    "df.head()"
   ]
  },
  {
   "cell_type": "code",
   "execution_count": 32,
   "metadata": {},
   "outputs": [
    {
     "name": "stdout",
     "output_type": "stream",
     "text": [
      "b and m [-3.8075377e-16] [[-0.77842678]]\n"
     ]
    }
   ],
   "source": [
    "#Check with SciKitlearn\n",
    "from sklearn.linear_model import Ridge\n",
    "nrows = len(x)\n",
    "xx = allScaled[:,1:-1]\n",
    "yy = allScaled[:,-1]\n",
    "ridgreg = Ridge(alpha=1.e-9)\n",
    "ridgreg.fit(xx,yy)\n",
    "m = lr.coef_\n",
    "b = lr.intercept_\n",
    "print('b and m',b,m)"
   ]
  }
 ],
 "metadata": {
  "kernelspec": {
   "display_name": "Python 3",
   "language": "python",
   "name": "python3"
  },
  "language_info": {
   "codemirror_mode": {
    "name": "ipython",
    "version": 3
   },
   "file_extension": ".py",
   "mimetype": "text/x-python",
   "name": "python",
   "nbconvert_exporter": "python",
   "pygments_lexer": "ipython3",
   "version": "3.7.4"
  }
 },
 "nbformat": 4,
 "nbformat_minor": 2
}
