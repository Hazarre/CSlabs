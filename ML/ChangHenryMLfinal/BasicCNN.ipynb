{
  "nbformat": 4,
  "nbformat_minor": 0,
  "metadata": {
    "colab": {
      "name": "BasicCNN",
      "provenance": [],
      "collapsed_sections": []
    },
    "kernelspec": {
      "display_name": "Python 3",
      "name": "python3"
    }
  },
  "cells": [
    {
      "cell_type": "code",
      "metadata": {
        "colab": {
          "base_uri": "https://localhost:8080/"
        },
        "id": "55KVCWZUg7Fq",
        "outputId": "1d7bd044-1c8b-4c32-e4cb-a86f7814cf6e"
      },
      "source": [
        "# getting The dataset \r\n",
        "\r\n",
        "# https://neptune.ai/blog/google-colab-dealing-with-files\r\n",
        "!echo '{\"username\":\"hazarre\",\"key\":\"92000f46465441bb5d82fcd2dd3765d9\"}' > ~/.kaggle/kaggle.json #write kaggle API credentials to kaggle.json\r\n",
        "!chmod 600 ~/.kaggle/kaggle.json  # set permissions\r\n",
        "!pip install --upgrade --force-reinstall --no-deps kaggle\r\n"
      ],
      "execution_count": null,
      "outputs": [
        {
          "output_type": "stream",
          "text": [
            "Processing /root/.cache/pip/wheels/3a/d1/7e/6ce09b72b770149802c653a02783821629146983ee5a360f10/kaggle-1.5.10-cp36-none-any.whl\n",
            "Installing collected packages: kaggle\n",
            "  Found existing installation: kaggle 1.5.10\n",
            "    Uninstalling kaggle-1.5.10:\n",
            "      Successfully uninstalled kaggle-1.5.10\n",
            "Successfully installed kaggle-1.5.10\n"
          ],
          "name": "stdout"
        }
      ]
    },
    {
      "cell_type": "code",
      "metadata": {
        "id": "98N0saqCg-WJ"
      },
      "source": [
        "# set up environment\r\n",
        "import math, re, os\r\n",
        "import numpy as np\r\n",
        "import pandas as pd\r\n",
        "import tensorflow as tf\r\n",
        "import matplotlib.pyplot as plt  \r\n",
        "from IPython import display\r\n"
      ],
      "execution_count": null,
      "outputs": []
    },
    {
      "cell_type": "code",
      "metadata": {
        "colab": {
          "base_uri": "https://localhost:8080/"
        },
        "id": "qEbjkkHfhKUO",
        "outputId": "e7196e8f-9421-4747-d4b3-b7ba6acf527c"
      },
      "source": [
        "!kaggle competitions download rfcx-species-audio-detection "
      ],
      "execution_count": null,
      "outputs": [
        {
          "output_type": "stream",
          "text": [
            "Downloading rfcx-species-audio-detection.zip to /content\n",
            "100% 49.6G/49.7G [07:49<00:00, 112MB/s]\n",
            "100% 49.7G/49.7G [07:49<00:00, 114MB/s]\n"
          ],
          "name": "stdout"
        }
      ]
    },
    {
      "cell_type": "code",
      "metadata": {
        "id": "vAN_cnsWhO91"
      },
      "source": [
        "!unzip rfcx-species-audio-detection.zip"
      ],
      "execution_count": null,
      "outputs": []
    },
    {
      "cell_type": "code",
      "metadata": {
        "id": "skgeDdtNhT3O"
      },
      "source": [
        "# Get the files \r\n",
        "AUTOTUNE = tf.data.experimental.AUTOTUNE\r\n",
        "GCS_PATH = \"../content/\"\r\n",
        "BATCH_SIZE = 16\r\n",
        "TRAINING_FILENAMES = tf.io.gfile.glob(GCS_PATH + '/tfrecords/train/*.tfrec')\r\n",
        "TEST_FILENAMES = tf.io.gfile.glob(GCS_PATH + '/tfrecords/test/*.tfrec')"
      ],
      "execution_count": null,
      "outputs": []
    },
    {
      "cell_type": "code",
      "metadata": {
        "id": "oGxQ8z-InP6V"
      },
      "source": [
        "# Obtain audio data and turn into fixed size spectrogram for training  \r\n",
        "\r\n",
        "def decode_audio(audio_binary):\r\n",
        "    audio, _ = tf.audio.decode_wav(audio_binary)\r\n",
        "    return tf.squeeze(audio, axis=-1)\r\n",
        "\r\n",
        "def string_split_semicolon(column):\r\n",
        "    split_labels_sc = tf.strings.split(column, sep=';')\r\n",
        "    return split_labels_sc\r\n",
        "\r\n",
        "def string_split_comma(column):\r\n",
        "    split_labels_c = tf.strings.split(column, sep=',')\r\n",
        "    return split_labels_c\r\n",
        "\r\n",
        "def get_spectrogram(waveform, eq_size=None):\r\n",
        "#     zero_padding = tf.zeros([eq_size] - tf.shape(waveform), dtype=tf.float32)\r\n",
        "#     waveform = tf.cast(waveform, tf.float32)\r\n",
        "#     equal_length = tf.concat([waveform, zero_padding], 0)\r\n",
        "    equal_length = waveform\r\n",
        "    spectrogram = tf.signal.stft(equal_length, frame_length=255, frame_step=128)\r\n",
        "    spectrogram = tf.abs(spectrogram)\r\n",
        "    return spectrogram\r\n",
        "\r\n",
        "def read_labeled_tfrecord(example):\r\n",
        "    LABELED_TFREC_FORMAT = {\r\n",
        "        \"audio_wav\"    : tf.io.FixedLenFeature([], tf.string), \r\n",
        "        \"label_info\"   : tf.io.FixedLenFeature([], tf.string) \r\n",
        "    }\r\n",
        "    example = tf.io.parse_single_example(example, LABELED_TFREC_FORMAT)\r\n",
        "    audio = decode_audio(example['audio_wav'])\r\n",
        "    first_split = string_split_semicolon(example['label_info'])\r\n",
        "    remove_quotes = tf.strings.regex_replace(first_split, '\"', \"\") \r\n",
        "    \r\n",
        "    second_split = string_split_comma(remove_quotes) \r\n",
        "    labels = tf.strings.to_number(second_split)\r\n",
        "    \r\n",
        "    species_id = tf.cast( tf.gather_nd(labels, [0, 0]) , tf.int32)\r\n",
        "    songtype_id = tf.gather_nd(labels,[0, 1])\r\n",
        "    t_min = tf.gather_nd(labels, [0, 2]) \r\n",
        "    f_min = tf.gather_nd(labels, [0, 3])\r\n",
        "    t_max = tf.gather_nd(labels, [0, 4]) \r\n",
        "    f_max = tf.gather_nd(labels, [0, 5])\r\n",
        "    is_tp = tf.cast( tf.gather_nd(labels, [0, 6]), tf.bool)\r\n",
        "    \r\n",
        "    sr = tf.constant(48000,  dtype=tf.float32)\r\n",
        "    eq = tf.constant(.27,  dtype=tf.float32)\r\n",
        "    eq_size = tf.cast( tf.math.ceil(eq*sr), tf.int32)\r\n",
        "    \r\n",
        "    # chop the audio section of interest \r\n",
        "    begin = [tf.cast(t_min*sr, tf.int32)]\r\n",
        "#     size =  tf.cast( tf.math.ceil(t_max*sr-t_min*sr), tf.int32)\r\n",
        "    audio = tf.slice(audio, begin=begin, size=[eq_size])\r\n",
        "    \r\n",
        "    # get a fixed sized spectrogram of eq_size\r\n",
        "    audio = get_spectrogram(audio, eq_size)\r\n",
        "    \r\n",
        "    ns = tf.concat( [tf.shape(audio), [1]],0)\r\n",
        "\r\n",
        "    audio = tf.reshape(audio, ns)\r\n",
        "    return audio, species_id #, t_min , f_min, t_max, f_max, is_tp\r\n",
        "\r\n",
        "def read_unlabeled_tfrecord(example):\r\n",
        "    UNLABELED_TFREC_FORMAT = {\r\n",
        "        \"recording_id\" : tf.io.FixedLenFeature([], tf.string),      \r\n",
        "        \"audio_wav\"    : tf.io.FixedLenFeature([], tf.string) \r\n",
        "    }\r\n",
        "    example = tf.io.parse_single_example(example, UNLABELED_TFREC_FORMAT)\r\n",
        "    audio = decode_audio(example['audio_wav'])\r\n",
        "    idnum = example['recording_id']\r\n",
        "    sr = tf.constant(48000,  dtype=tf.float32)\r\n",
        "    eq = tf.constant(.27,  dtype=tf.float32)\r\n",
        "    eq_size = tf.cast( tf.math.ceil(eq*sr), tf.int32)\r\n",
        "    specs = []\r\n",
        "    for t_min in np.arange(start=0, stop=60-.27, step=.27 ): \r\n",
        "        t_min  = tf.constant(t_min,  dtype=tf.float32)\r\n",
        "        # chop the audio section of interest \r\n",
        "        begin = [tf.cast(t_min*sr, tf.int32)]\r\n",
        "        #     size =  tf.cast( tf.math.ceil(t_max*sr-t_min*sr), tf.int32)\r\n",
        "        roi = tf.slice(audio, begin=begin, size=[eq_size])\r\n",
        "        # get a fixed sized spectrogram of eq_size\r\n",
        "        roi = get_spectrogram(roi, eq_size)\r\n",
        "        ns = tf.concat( [tf.shape(roi), [1]],0)\r\n",
        "        roi = tf.reshape(roi, ns)\r\n",
        "        specs.append(roi)\r\n",
        "    return specs, idnum\r\n",
        "\r\n",
        "def load_dataset(filenames, labeled=True, ordered=False):\r\n",
        "    ignore_order = tf.data.Options()\r\n",
        "    if not ordered:\r\n",
        "        ignore_order.experimental_deterministic = False  \r\n",
        "    dataset = tf.data.TFRecordDataset(filenames, num_parallel_reads=AUTOTUNE) \r\n",
        "    dataset = dataset.with_options(ignore_order)  \r\n",
        "    dataset = dataset.map(read_labeled_tfrecord if labeled else read_unlabeled_tfrecord, num_parallel_calls=AUTOTUNE)\r\n",
        "    return dataset \r\n",
        "\r\n",
        "def get_training_dataset():\r\n",
        "    dataset = load_dataset(TRAINING_FILENAMES, labeled=True)\r\n",
        "    dataset = dataset.repeat()  \r\n",
        "    dataset = dataset.shuffle(128)\r\n",
        "#     dataset = dataset.batch(BATCH_SIZE)\r\n",
        "    dataset = dataset.prefetch(AUTOTUNE) \r\n",
        "    return dataset\r\n",
        "\r\n",
        "def count_data_items(filenames):\r\n",
        "    n = [int(re.compile(r\"-([0-9]*)\\.\").search(filename).group(1)) for filename in filenames]\r\n",
        "    return np.sum(n)\r\n",
        "\r\n",
        "\r\n",
        "NUM_TRAINING_FILES = count_data_items(TRAINING_FILENAMES)\r\n",
        "NUM_TEST_FILES = count_data_items(TEST_FILENAMES)\r\n",
        "\r\n",
        "print('Dataset: {} training files, {} unlabeled test files'.format(NUM_TRAINING_FILES, NUM_TEST_FILES))\r\n",
        "\r\n",
        "# for audio, species_id in get_training_dataset().take(3):\r\n",
        "#     print(audio.numpy().shape, species_id.numpy().shape)\r\n",
        "\r\n",
        "for audio, species_id  in get_training_dataset().take(1):\r\n",
        "    print(\"\\naudio examples:\", audio.shape, audio)                 # (16,2880000)\r\n",
        "    print(\"species_id examples:\", species_id.numpy())  # (16,)\r\n",
        "#     print(\"t_min:\", t_min)\r\n",
        "#     print(\"f_min:\", f_min.numpy())\r\n",
        "#     print(\"t_max:\", t_max.numpy())\r\n",
        "#     print(\"f_max:\", f_max.numpy())\r\n",
        "#     print(\"is_tp:\", is_tp.numpy())"
      ],
      "execution_count": null,
      "outputs": []
    },
    {
      "cell_type": "code",
      "metadata": {
        "colab": {
          "base_uri": "https://localhost:8080/"
        },
        "id": "fDnk1T_gnkf-",
        "outputId": "5ac5a89f-fdee-4342-cd5c-5e4607a70739"
      },
      "source": [
        "# Check input shape\r\n",
        "spectrogram_ds = get_training_dataset()\r\n",
        "\r\n",
        "train_ds = spectrogram_ds\r\n",
        "\r\n",
        "batch_size = 64\r\n",
        "train_ds = train_ds.batch(batch_size)\r\n",
        "train_ds = train_ds.cache().prefetch(AUTOTUNE)\r\n",
        "\r\n",
        "for spectrogram, _ in spectrogram_ds.take(1):\r\n",
        "  input_shape = spectrogram.shape\r\n",
        "print('Input shape:', input_shape)\r\n",
        "num_labels = 24"
      ],
      "execution_count": null,
      "outputs": [
        {
          "output_type": "stream",
          "text": [
            "Input shape: (100, 129, 1)\n"
          ],
          "name": "stdout"
        }
      ]
    },
    {
      "cell_type": "code",
      "metadata": {
        "colab": {
          "base_uri": "https://localhost:8080/"
        },
        "id": "5ZEZNyoBnzNe",
        "outputId": "d858fa42-ff36-4f13-a780-1b58fb419926"
      },
      "source": [
        "from tensorflow.keras.layers.experimental import preprocessing\r\n",
        "from tensorflow.keras import layers\r\n",
        "from tensorflow.keras import models\r\n",
        "import timeit\r\n",
        "\r\n",
        "start = timeit.default_timer()\r\n",
        "norm_layer = preprocessing.Normalization()\r\n",
        "norm_layer.adapt(spectrogram_ds.take(NUM_TRAINING_FILES).map(lambda x, _: x)) #NUM_TRAINING_FILES\r\n",
        "print(\"time for Normalization: \", timeit.default_timer() - start)"
      ],
      "execution_count": null,
      "outputs": [
        {
          "output_type": "stream",
          "text": [
            "time for Normalization:  251.03111999799967\n"
          ],
          "name": "stdout"
        }
      ]
    },
    {
      "cell_type": "code",
      "metadata": {
        "colab": {
          "base_uri": "https://localhost:8080/"
        },
        "id": "8yntDww8n8eV",
        "outputId": "f50eacd4-16a5-4b67-d0c8-a5ddea65b3e2"
      },
      "source": [
        " # Basic model\r\n",
        " model = models.Sequential([\r\n",
        "    layers.Input(shape=input_shape),\r\n",
        "    preprocessing.Resizing(32, 32), \r\n",
        "    norm_layer,\r\n",
        "\r\n",
        "    # Feature Extraction\r\n",
        "    layers.Conv2D(32, 3, activation='relu'),\r\n",
        "    layers.Conv2D(64, 3, activation='relu'),\r\n",
        "    layers.MaxPooling2D(),\r\n",
        "\r\n",
        "    #\r\n",
        "    layers.Dropout(0.25),\r\n",
        "    layers.Flatten(),\r\n",
        "    layers.Dense(128, activation='relu'),\r\n",
        "    layers.Dropout(0.5),\r\n",
        "    layers.Dense(num_labels),\r\n",
        "])\r\n",
        "\r\n",
        "model.compile(\r\n",
        "    optimizer=tf.keras.optimizers.Adam(),\r\n",
        "    loss=tf.keras.losses.SparseCategoricalCrossentropy(from_logits=True),\r\n",
        "    metrics=['accuracy'],\r\n",
        ")\r\n",
        "\r\n",
        "model.summary()"
      ],
      "execution_count": null,
      "outputs": [
        {
          "output_type": "stream",
          "text": [
            "Model: \"sequential\"\n",
            "_________________________________________________________________\n",
            "Layer (type)                 Output Shape              Param #   \n",
            "=================================================================\n",
            "resizing (Resizing)          (None, 32, 32, 1)         0         \n",
            "_________________________________________________________________\n",
            "normalization (Normalization (None, 32, 32, 1)         3         \n",
            "_________________________________________________________________\n",
            "conv2d (Conv2D)              (None, 30, 30, 32)        320       \n",
            "_________________________________________________________________\n",
            "conv2d_1 (Conv2D)            (None, 28, 28, 64)        18496     \n",
            "_________________________________________________________________\n",
            "max_pooling2d (MaxPooling2D) (None, 14, 14, 64)        0         \n",
            "_________________________________________________________________\n",
            "dropout (Dropout)            (None, 14, 14, 64)        0         \n",
            "_________________________________________________________________\n",
            "flatten (Flatten)            (None, 12544)             0         \n",
            "_________________________________________________________________\n",
            "dense (Dense)                (None, 128)               1605760   \n",
            "_________________________________________________________________\n",
            "dropout_1 (Dropout)          (None, 128)               0         \n",
            "_________________________________________________________________\n",
            "dense_1 (Dense)              (None, 24)                3096      \n",
            "=================================================================\n",
            "Total params: 1,627,675\n",
            "Trainable params: 1,627,672\n",
            "Non-trainable params: 3\n",
            "_________________________________________________________________\n"
          ],
          "name": "stdout"
        }
      ]
    },
    {
      "cell_type": "code",
      "metadata": {
        "colab": {
          "background_save": true,
          "base_uri": "https://localhost:8080/"
        },
        "id": "AkC7yxucoGm9",
        "outputId": "04de7a96-6c47-40e5-fb60-592ed59f50b0"
      },
      "source": [
        "# Training\r\n",
        "EPOCHS = 5\r\n",
        "history = model.fit(\r\n",
        "    train_ds, \r\n",
        "#     validation_data=val_ds,  \r\n",
        "    epochs=EPOCHS,\r\n",
        "    steps_per_epoch = 140\r\n",
        "#     callbacks=tf.keras.callbacks.EarlyStopping(verbose=1, patience=2),\r\n",
        ")\r\n",
        "\r\n",
        "metrics = history.history\r\n",
        "plt.plot(history.epoch, metrics['loss'])\r\n",
        "plt.legend(['loss'])\r\n",
        "plt.show()"
      ],
      "execution_count": null,
      "outputs": [
        {
          "output_type": "stream",
          "text": [
            "Epoch 1/5\n",
            "140/140 [==============================] - 477s 3s/step - loss: 3.1373 - accuracy: 0.1004\n",
            "Epoch 2/5\n",
            "140/140 [==============================] - 469s 3s/step - loss: 2.8976 - accuracy: 0.1696\n",
            "Epoch 3/5\n",
            "140/140 [==============================] - 469s 3s/step - loss: 2.7487 - accuracy: 0.2030\n",
            "Epoch 4/5\n",
            "140/140 [==============================] - 469s 3s/step - loss: 2.5967 - accuracy: 0.2477\n",
            "Epoch 5/5\n",
            "140/140 [==============================] - 469s 3s/step - loss: 2.4400 - accuracy: 0.2886\n"
          ],
          "name": "stdout"
        },
        {
          "output_type": "display_data",
          "data": {
            "image/png": "[encoded data removed]",
            "text/plain": [
              "<Figure size 432x288 with 1 Axes>"
            ]
          },
          "metadata": {
            "tags": []
          }
        }
      ]
    },
    {
      "cell_type": "code",
      "metadata": {
        "colab": {
          "background_save": true
        },
        "id": "TO3hOx-KoKxQ"
      },
      "source": [
        "test_ds = load_dataset(TEST_FILENAMES, labeled=False)"
      ],
      "execution_count": null,
      "outputs": []
    },
    {
      "cell_type": "code",
      "metadata": {
        "id": "otn5goaMoeZW",
        "colab": {
          "base_uri": "https://localhost:8080/"
        },
        "outputId": "ddf66ce4-f803-4608-dc70-2fa0d63e710d"
      },
      "source": [
        "data = []\r\n",
        "count = 0\r\n",
        "start = timeit.default_timer()\r\n",
        "\r\n",
        "for specs, idnum in test_ds.take(NUM_TEST_FILES):\r\n",
        "    pred =  tf.map_fn(fn=lambda spec:  tf.nn.softmax( np.amax( model.predict(specs), axis = 0)) , elems=specs)\r\n",
        "    pred =  np.amax(pred, axis =0)\r\n",
        "    stop = timeit.default_timer() \r\n",
        "    data.append( [idnum.numpy().decode(\"utf-8\")] + list(pred))\r\n",
        "    count +=1\r\n",
        "    print(count, idnum.numpy().decode(\"utf-8\"), 'Time: ', stop - start)\r\n",
        "cols = [\"recording_id\"] + [ \"s%s\" %i for i in range(24) ]\r\n",
        "df = pd.DataFrame(data=data,columns = cols  )\r\n",
        "df.head()"
      ],
      "execution_count": null,
      "outputs": [
        {
          "output_type": "stream",
          "text": [
            "1 226daf7a4 Time:  55.828077701999064\n",
            "2 226fdd52e Time:  103.92900121799903\n",
            "3 228ec2e44 Time:  153.5417958049984\n",
            "4 229445f97 Time:  202.64299214499988\n",
            "5 22bf34d57 Time:  251.45924358999946\n",
            "6 231b751a6 Time:  300.27364485399994\n",
            "7 232fe3b6f Time:  349.2098851589999\n",
            "8 2341a29ca Time:  397.98215767299916\n",
            "9 235e518ce Time:  447.2739246489982\n",
            "10 23802a50e Time:  496.01167025499853\n",
            "11 23bd773d5 Time:  544.9050977869992\n",
            "12 23f85e34a Time:  593.7784040649985\n",
            "13 240697131 Time:  642.7010281599996\n",
            "14 2420703df Time:  691.4885385039997\n",
            "15 2444fbf36 Time:  740.2040522839998\n",
            "16 245efe45c Time:  789.5838958329987\n",
            "17 24968153e Time:  838.3854623169991\n",
            "18 2497b42b0 Time:  888.1600980699986\n",
            "19 24a1c2d43 Time:  936.8687489899985\n",
            "20 24c2dcbde Time:  985.838462923999\n",
            "21 24d2831ba Time:  1034.619902818\n",
            "22 24e0357d3 Time:  1083.9774758509993\n",
            "23 25031e403 Time:  1132.800068437\n",
            "24 251b20553 Time:  1181.8153379319992\n",
            "25 252305b36 Time:  1231.2227767779987\n",
            "26 2557f807f Time:  1280.0308770229985\n",
            "27 256bbb887 Time:  1329.023042200999\n",
            "28 25eea2aec Time:  1379.2151104209988\n",
            "29 26297fa42 Time:  1428.383713236999\n",
            "30 264e1c5d1 Time:  1477.1746932019996\n",
            "31 269ec93c1 Time:  1525.8646572199996\n",
            "32 26de13cc2 Time:  1574.8521230389997\n",
            "33 26e154992 Time:  1623.6196076909982\n",
            "34 26e6c228c Time:  1672.5299199739984\n",
            "35 2702506a0 Time:  1722.479471613\n",
            "36 27224a0ea Time:  1771.8878728249983\n",
            "37 273d502c3 Time:  1820.9569548169984\n",
            "38 277102407 Time:  1869.5667977989997\n",
            "39 27eb3d156 Time:  1918.2707016799995\n",
            "40 282a52a92 Time:  1967.2247252329998\n",
            "41 284197921 Time:  2017.2523010209989\n",
            "42 2889d6cfe Time:  2075.0404348829998\n",
            "43 28a4287f6 Time:  2123.71491282\n",
            "44 28b5f4e83 Time:  2172.796285111999\n",
            "45 28d1b3eee Time:  2221.5323457659997\n",
            "46 28e374ea2 Time:  2270.343646686999\n",
            "47 28f39426c Time:  2319.5821513809988\n",
            "48 29066c70f Time:  2368.300290068999\n",
            "49 293791220 Time:  2417.3284170039988\n",
            "50 293c956eb Time:  2465.945060459999\n",
            "51 29528fd59 Time:  2514.8227273579996\n",
            "52 298646cfe Time:  2563.3872760409995\n",
            "53 2986b87b2 Time:  2612.322070111999\n",
            "54 299830376 Time:  2661.5123805719995\n",
            "55 29a2a235b Time:  2710.504168727999\n",
            "56 29be5139f Time:  2759.3249804419993\n",
            "57 29ca01b58 Time:  2808.4498589919986\n",
            "58 29caf0a0b Time:  2857.9254209229985\n",
            "59 2a119f08d Time:  2907.606936934999\n",
            "60 2a30fef72 Time:  2956.7514085969997\n",
            "61 2a3f33e0d Time:  3005.431712407999\n",
            "62 2a625bb6f Time:  3054.2998177269983\n",
            "63 2a6b5c6a9 Time:  3103.3239665229994\n",
            "64 a75df19ab Time:  3152.0970545689997\n",
            "65 a77f548bd Time:  3200.845573344999\n",
            "66 a7a7fc534 Time:  3249.675782193999\n",
            "67 a7c31f224 Time:  3299.071832062\n",
            "68 a7ebc2eb8 Time:  3347.800352426999\n",
            "69 a81760ac4 Time:  3396.6911117209984\n",
            "70 a84a942e7 Time:  3445.651274627\n",
            "71 a853f71b6 Time:  3494.74545984\n",
            "72 a861d2eea Time:  3544.1450036769984\n",
            "73 a875960e4 Time:  3593.337632502\n",
            "74 a8787f94b Time:  3642.198572682999\n",
            "75 a87e751cc Time:  3691.349117808999\n",
            "76 a88c64236 Time:  3740.208157683999\n",
            "77 a8b02b220 Time:  3789.235212374999\n",
            "78 a8e5c6ed4 Time:  3838.2960424449993\n",
            "79 a8ed8b3ba Time:  3888.070964553999\n",
            "80 a8f4848e8 Time:  3937.3627735719983\n",
            "81 a8f7306b8 Time:  3986.3330794939993\n",
            "82 a8fb199cc Time:  4037.5065100539996\n",
            "83 a91135d08 Time:  4087.136096475999\n",
            "84 a929a6311 Time:  4136.296691934998\n",
            "85 a93af2c1e Time:  4185.066467425999\n",
            "86 a986f9f3a Time:  4233.882013412\n",
            "87 a9d03a2c5 Time:  4283.1259894099985\n",
            "88 a9d25f100 Time:  4331.81772714\n",
            "89 a9e3524b5 Time:  4380.588374559\n",
            "90 a9eb1ee50 Time:  4429.447186130999\n",
            "91 a9f6378b7 Time:  4478.847018921999\n",
            "92 aa2533ff6 Time:  4528.081620311999\n",
            "93 aa5931e4e Time:  4577.0956931929995\n",
            "94 aa6b68473 Time:  4626.576779839999\n",
            "95 aa8a7c0e2 Time:  4675.549082784999\n",
            "96 aaaf2d5ed Time:  4724.943682510999\n",
            "97 aabb848a0 Time:  4773.879573339\n",
            "98 aabdd4b90 Time:  4823.14411544\n",
            "99 aad206921 Time:  4872.210590483999\n",
            "100 aaebf3921 Time:  4921.22700906\n",
            "101 aaf62ba55 Time:  4970.149803864999\n",
            "102 ab1f1dcc5 Time:  5019.582174133999\n",
            "103 ab36fa26f Time:  5068.732531517999\n",
            "104 ab38f70f1 Time:  5117.574218652999\n",
            "105 ab9aab476 Time:  5167.017547234\n",
            "106 aba967d65 Time:  5216.2372986499995\n",
            "107 ac31b69d3 Time:  5265.461072777\n",
            "108 ac88747c6 Time:  5314.357474930999\n",
            "109 acb375d99 Time:  5363.334072525\n",
            "110 acdde2d25 Time:  5412.629214416\n",
            "111 acdeb08ff Time:  5462.198407532998\n",
            "112 ace73dc1b Time:  5511.448533833\n",
            "113 ace85cf83 Time:  5560.463776278999\n",
            "114 acef68037 Time:  5610.041055872\n",
            "115 ad68b757f Time:  5659.281172636998\n",
            "116 ad755f4eb Time:  5708.428701082999\n",
            "117 adbcf0878 Time:  5757.593283476999\n",
            "118 ae2892c02 Time:  5807.344490976999\n",
            "119 ae3edc12c Time:  5856.377600542999\n",
            "120 ae697ac31 Time:  5905.329788902\n",
            "121 ae7837315 Time:  5954.238504663999\n",
            "122 ae974f741 Time:  6003.766429223999\n",
            "123 aedba33f1 Time:  6052.785240297999\n",
            "124 aedd34af0 Time:  6102.004749349999\n",
            "125 aefa33092 Time:  6150.971877423999\n",
            "126 af0c58dbf Time:  6200.4215123509985\n",
            "127 3ba2bdb06 Time:  6249.600446491999\n",
            "128 3ba4edeba Time:  6299.033884965998\n",
            "129 3bd259456 Time:  6348.069151103\n",
            "130 3bdf2e2f3 Time:  6401.284172354999\n",
            "131 3be052546 Time:  6451.937728207\n",
            "132 3be35b503 Time:  6500.939522029999\n",
            "133 3bf293ad6 Time:  6550.484132800999\n",
            "134 3c03b2503 Time:  6600.161272010999\n",
            "135 3c5257721 Time:  6649.424273418999\n",
            "136 3cb7b0132 Time:  6698.394610293999\n",
            "137 3d259c6a2 Time:  6747.518698196998\n",
            "138 3d461e965 Time:  6796.810426565\n",
            "139 3d60d5b03 Time:  6845.801495057\n",
            "140 3d7d6dadb Time:  6895.138375031998\n",
            "141 3d7f62c79 Time:  6944.410027345999\n",
            "142 3d89d5571 Time:  6994.029023214\n",
            "143 3d8ed3eed Time:  7043.407712025999\n",
            "144 3d8fbaf50 Time:  7092.273076746998\n",
            "145 3d93af672 Time:  7142.092987749998\n",
            "146 3dabe2366 Time:  7191.207633381999\n",
            "147 3db0b6ad6 Time:  7240.598596035999\n",
            "148 3dc375aec Time:  7290.387533341\n",
            "149 3de11e9f6 Time:  7340.103031920999\n",
            "150 3de2e5efc Time:  7389.782119821999\n",
            "151 3de404cd1 Time:  7439.0685519559975\n",
            "152 3de82b52b Time:  7488.021109773001\n",
            "153 3e214fe98 Time:  7537.590058996999\n",
            "154 3e4114fad Time:  7586.5799336679975\n",
            "155 3e46d90e7 Time:  7635.5925234199985\n",
            "156 3e693e956 Time:  7685.088700142\n",
            "157 3e79a8489 Time:  7734.543855757\n",
            "158 3e8e64622 Time:  7783.761664602998\n",
            "159 3ea29035a Time:  7832.840068152998\n",
            "160 3ec54ea51 Time:  7881.717488191998\n",
            "161 3ef8f39f8 Time:  7931.137308527001\n",
            "162 3f052aa50 Time:  7980.403246248001\n",
            "163 3f16bf597 Time:  8029.401868491999\n",
            "164 3f4297971 Time:  8078.285686646997\n",
            "165 3f6fe7d19 Time:  8128.996575937001\n",
            "166 3f75c5715 Time:  8177.816077867998\n",
            "167 3f9a8ba65 Time:  8226.878561513999\n",
            "168 3fc5a5df4 Time:  8275.933473599\n",
            "169 3fcc38f27 Time:  8325.600412535\n"
          ],
          "name": "stdout"
        }
      ]
    },
    {
      "cell_type": "code",
      "metadata": {
        "id": "vlOKBXyKq1om"
      },
      "source": [
        "assert df.shape[0] == NUM_TEST_FILES"
      ],
      "execution_count": null,
      "outputs": []
    },
    {
      "cell_type": "code",
      "metadata": {
        "id": "_OKwJey7ovId"
      },
      "source": [
        "print(specs.shape)"
      ],
      "execution_count": null,
      "outputs": []
    },
    {
      "cell_type": "code",
      "metadata": {
        "id": "54HFHpbRpULw"
      },
      "source": [
        "print(specs.numpy()[0].shape)"
      ],
      "execution_count": null,
      "outputs": []
    },
    {
      "cell_type": "code",
      "metadata": {
        "id": "3IL98WAUpbSq"
      },
      "source": [
        "df.to_csv(\"submission.csv\", index=False)\r\n",
        "from google.colab import files\r\n",
        "files.download('submission.csv')"
      ],
      "execution_count": null,
      "outputs": []
    },
    {
      "cell_type": "code",
      "metadata": {
        "id": "qXDc0tU7x1Am"
      },
      "source": [
        ""
      ],
      "execution_count": null,
      "outputs": []
    }
  ]
}