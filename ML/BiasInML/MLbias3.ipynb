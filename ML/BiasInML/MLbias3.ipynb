{
 "cells": [
  {
   "cell_type": "code",
   "execution_count": 7,
   "metadata": {},
   "outputs": [],
   "source": [
    "import pandas as pd\n",
    "import sys # Python ≥3.5 is required\n",
    "assert sys.version_info >= (3, 5)\n",
    "import os\n",
    "import matplotlib.pyplot as plt\n",
    "import numpy as np\n",
    "%matplotlib inline\n",
    "\n",
    "\n",
    "cwd = os.getcwd()\n",
    "file_path = 'C:\\\\Users\\\\henry\\\\Desktop\\\\ML\\\\BiasInML\\\\compas-scores-two-years.csv'\n",
    "df = pd.read_csv(file_path)"
   ]
  },
  {
   "cell_type": "code",
   "execution_count": 9,
   "metadata": {},
   "outputs": [],
   "source": [
    "from sklearn.linear_model import LogisticRegression\n",
    "\n",
    "# Fit a logistic model to predict recidivism from age and priors.\n",
    "vars =  ['age', 'priors_count']\n",
    "predvar = ['is_recid']\n",
    "\n",
    "\n",
    "aa = \"African-American\"\n",
    "cc = \"Caucasian\"\n",
    "# get random indices\n",
    "indices = list(range(len(df)))\n",
    "np.random.shuffle(indices)\n",
    "ntrain = int(.8*len(df))\n",
    "ntest = int(.20*len(df))\n",
    "trainidx = indices[0:ntrain]\n",
    "testidx = indices[ntrain:]\n",
    "\n",
    "train = df.iloc[trainidx,:]\n",
    "test  = df.iloc[testidx,:]\n",
    "# helpful to have dataframes for just AA and CC\n",
    "testAA = test[test['race'] == aa]\n",
    "testCC = test[test['race'] == cc]\n",
    "\n",
    "def getXY(df,var,predvar):\n",
    "    x = df.loc[:,var]\n",
    "    y = df.loc[:,predvar]\n",
    "    return x.values[:,:],y.values[:,0]\n",
    "\n",
    "\n",
    "xtrain,ytrain = getXY(train,vars,predvar)\n",
    "xtest, ytest = getXY(test,vars,predvar)\n",
    "xtestAA,ytestAA = getXY(testAA,vars,predvar)\n",
    "xtestCC,ytestCC = getXY(testCC,vars,predvar)\n",
    "\n",
    "\n",
    "\n",
    "\n"
   ]
  },
  {
   "cell_type": "code",
   "execution_count": 12,
   "metadata": {},
   "outputs": [
    {
     "ename": "ValueError",
     "evalue": "operands could not be broadcast together with shapes (1443,) (1443,2) ",
     "output_type": "error",
     "traceback": [
      "\u001b[1;31m---------------------------------------------------------------------------\u001b[0m",
      "\u001b[1;31mValueError\u001b[0m                                Traceback (most recent call last)",
      "\u001b[1;32m<ipython-input-12-9fdfd3cc7acb>\u001b[0m in \u001b[0;36m<module>\u001b[1;34m\u001b[0m\n\u001b[0;32m      3\u001b[0m \u001b[0mclf\u001b[0m\u001b[1;33m.\u001b[0m\u001b[0mpredict\u001b[0m\u001b[1;33m(\u001b[0m\u001b[0mxtest\u001b[0m\u001b[1;33m)\u001b[0m\u001b[1;33m\u001b[0m\u001b[1;33m\u001b[0m\u001b[0m\n\u001b[0;32m      4\u001b[0m \u001b[1;33m\u001b[0m\u001b[0m\n\u001b[1;32m----> 5\u001b[1;33m \u001b[0mytest\u001b[0m\u001b[1;33m-\u001b[0m\u001b[0mxtest\u001b[0m\u001b[1;33m\u001b[0m\u001b[1;33m\u001b[0m\u001b[0m\n\u001b[0m",
      "\u001b[1;31mValueError\u001b[0m: operands could not be broadcast together with shapes (1443,) (1443,2) "
     ]
    }
   ],
   "source": [
    "clf = LogisticRegression(random_state=0).fit(xtrain, ytrain)\n",
    "\n",
    "clf.predict(xtest)\n"
   ]
  },
  {
   "cell_type": "code",
   "execution_count": 22,
   "metadata": {},
   "outputs": [
    {
     "data": {
      "text/plain": [
       "681"
      ]
     },
     "execution_count": 22,
     "metadata": {},
     "output_type": "execute_result"
    }
   ],
   "source": [
    "np.count_nonzero(ytest)"
   ]
  },
  {
   "cell_type": "code",
   "execution_count": 19,
   "metadata": {},
   "outputs": [
    {
     "data": {
      "text/plain": [
       "644"
      ]
     },
     "execution_count": 19,
     "metadata": {},
     "output_type": "execute_result"
    }
   ],
   "source": [
    "np.count_nonzero(clf.predict(xtest))"
   ]
  },
  {
   "cell_type": "code",
   "execution_count": null,
   "metadata": {},
   "outputs": [],
   "source": []
  }
 ],
 "metadata": {
  "kernelspec": {
   "display_name": "Python 3",
   "language": "python",
   "name": "python3"
  },
  "language_info": {
   "codemirror_mode": {
    "name": "ipython",
    "version": 3
   },
   "file_extension": ".py",
   "mimetype": "text/x-python",
   "name": "python",
   "nbconvert_exporter": "python",
   "pygments_lexer": "ipython3",
   "version": "3.7.7"
  }
 },
 "nbformat": 4,
 "nbformat_minor": 2
}
